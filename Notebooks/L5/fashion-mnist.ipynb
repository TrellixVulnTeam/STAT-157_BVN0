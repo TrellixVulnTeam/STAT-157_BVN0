{
 "cells": [
  {
   "cell_type": "markdown",
   "metadata": {
    "slideshow": {
     "slide_type": "slide"
    }
   },
   "source": [
    "#  [Fashion-MNIST](https://github.com/zalandoresearch/fashion-mnist) "
   ]
  },
  {
   "cell_type": "code",
   "execution_count": 12,
   "metadata": {
    "ExecuteTime": {
     "end_time": "2019-02-05T23:18:50.762423Z",
     "start_time": "2019-02-05T23:18:49.842795Z"
    }
   },
   "outputs": [],
   "source": [
    "%matplotlib inline\n",
    "from mxnet.gluon import data as gdata\n",
    "from mxnet import ndarray as nd\n",
    "import sys\n",
    "import time"
   ]
  },
  {
   "cell_type": "markdown",
   "metadata": {},
   "source": [
    "Next, we will download this data set through Gluon's `data` package. "
   ]
  },
  {
   "cell_type": "code",
   "execution_count": 13,
   "metadata": {
    "ExecuteTime": {
     "end_time": "2019-02-05T23:18:51.340580Z",
     "start_time": "2019-02-05T23:18:50.765621Z"
    },
    "attributes": {
     "classes": [],
     "id": "",
     "n": "23"
    }
   },
   "outputs": [],
   "source": [
    "mnist_train = gdata.vision.FashionMNIST(train=True)\n",
    "mnist_test = gdata.vision.FashionMNIST(train=False)"
   ]
  },
  {
   "cell_type": "code",
   "execution_count": 14,
   "metadata": {
    "ExecuteTime": {
     "end_time": "2019-02-05T23:18:51.351405Z",
     "start_time": "2019-02-05T23:18:51.342725Z"
    },
    "slideshow": {
     "slide_type": "slide"
    }
   },
   "outputs": [
    {
     "data": {
      "text/plain": [
       "(60000, 10000)"
      ]
     },
     "execution_count": 14,
     "metadata": {},
     "output_type": "execute_result"
    }
   ],
   "source": [
    "len(mnist_train), len(mnist_test)"
   ]
  },
  {
   "cell_type": "markdown",
   "metadata": {},
   "source": [
    "We can access any example by square brackets `[]`, and next, we will get the image and label of the first example."
   ]
  },
  {
   "cell_type": "code",
   "execution_count": 15,
   "metadata": {
    "ExecuteTime": {
     "end_time": "2019-02-05T23:18:51.366101Z",
     "start_time": "2019-02-05T23:18:51.357175Z"
    },
    "attributes": {
     "classes": [],
     "id": "",
     "n": "24"
    }
   },
   "outputs": [
    {
     "name": "stdout",
     "output_type": "stream",
     "text": [
      "(28, 28, 1) <class 'numpy.uint8'>\n",
      "2 <class 'numpy.int32'> int32\n"
     ]
    }
   ],
   "source": [
    "feature, label = mnist_train[0]\n",
    "print(feature.shape, feature.dtype)\n",
    "print(label, type(label), label.dtype)"
   ]
  },
  {
   "cell_type": "code",
   "execution_count": 16,
   "metadata": {
    "ExecuteTime": {
     "end_time": "2019-02-05T23:18:51.382906Z",
     "start_time": "2019-02-05T23:18:51.371752Z"
    },
    "slideshow": {
     "slide_type": "slide"
    }
   },
   "outputs": [],
   "source": [
    "def get_fashion_mnist_labels(labels):\n",
    "    text_labels = ['t-shirt', 'trouser', 'pullover', 'dress', 'coat',\n",
    "                   'sandal', 'shirt', 'sneaker', 'bag', 'ankle boot']\n",
    "    return [text_labels[int(i)] for i in labels]\n",
    "\n",
    "def show_fashion_mnist(images, labels):\n",
    "    d2l.use_svg_display()\n",
    "    # Here _ means that we ignore (not use) variables.\n",
    "    _, figs = d2l.plt.subplots(1, len(images), figsize=(12, 12))\n",
    "    for f, img, lbl in zip(figs, images, labels):\n",
    "        f.imshow(img.reshape((28, 28)).asnumpy())\n",
    "        f.set_title(lbl)\n",
    "        f.axes.get_xaxis().set_visible(False)\n",
    "        f.axes.get_yaxis().set_visible(False)"
   ]
  },
  {
   "cell_type": "code",
   "execution_count": 17,
   "metadata": {
    "ExecuteTime": {
     "end_time": "2019-02-05T23:18:51.749843Z",
     "start_time": "2019-02-05T23:18:51.386430Z"
    },
    "attributes": {
     "classes": [],
     "id": "",
     "n": "27"
    }
   },
   "outputs": [
    {
     "ename": "NameError",
     "evalue": "name 'd2l' is not defined",
     "output_type": "error",
     "traceback": [
      "\u001b[0;31m---------------------------------------------------------------------------\u001b[0m",
      "\u001b[0;31mNameError\u001b[0m                                 Traceback (most recent call last)",
      "\u001b[0;32m<ipython-input-17-de8dd1268cf3>\u001b[0m in \u001b[0;36m<module>\u001b[0;34m()\u001b[0m\n\u001b[1;32m      1\u001b[0m \u001b[0mX\u001b[0m\u001b[0;34m,\u001b[0m \u001b[0my\u001b[0m \u001b[0;34m=\u001b[0m \u001b[0mmnist_train\u001b[0m\u001b[0;34m[\u001b[0m\u001b[0;36m0\u001b[0m\u001b[0;34m:\u001b[0m\u001b[0;36m9\u001b[0m\u001b[0;34m]\u001b[0m\u001b[0;34m\u001b[0m\u001b[0;34m\u001b[0m\u001b[0m\n\u001b[0;32m----> 2\u001b[0;31m \u001b[0mshow_fashion_mnist\u001b[0m\u001b[0;34m(\u001b[0m\u001b[0mX\u001b[0m\u001b[0;34m,\u001b[0m \u001b[0mget_fashion_mnist_labels\u001b[0m\u001b[0;34m(\u001b[0m\u001b[0my\u001b[0m\u001b[0;34m)\u001b[0m\u001b[0;34m)\u001b[0m\u001b[0;34m\u001b[0m\u001b[0;34m\u001b[0m\u001b[0m\n\u001b[0m",
      "\u001b[0;32m<ipython-input-16-0bbabdc5d07e>\u001b[0m in \u001b[0;36mshow_fashion_mnist\u001b[0;34m(images, labels)\u001b[0m\n\u001b[1;32m      5\u001b[0m \u001b[0;34m\u001b[0m\u001b[0m\n\u001b[1;32m      6\u001b[0m \u001b[0;32mdef\u001b[0m \u001b[0mshow_fashion_mnist\u001b[0m\u001b[0;34m(\u001b[0m\u001b[0mimages\u001b[0m\u001b[0;34m,\u001b[0m \u001b[0mlabels\u001b[0m\u001b[0;34m)\u001b[0m\u001b[0;34m:\u001b[0m\u001b[0;34m\u001b[0m\u001b[0;34m\u001b[0m\u001b[0m\n\u001b[0;32m----> 7\u001b[0;31m     \u001b[0md2l\u001b[0m\u001b[0;34m.\u001b[0m\u001b[0muse_svg_display\u001b[0m\u001b[0;34m(\u001b[0m\u001b[0;34m)\u001b[0m\u001b[0;34m\u001b[0m\u001b[0;34m\u001b[0m\u001b[0m\n\u001b[0m\u001b[1;32m      8\u001b[0m     \u001b[0;31m# Here _ means that we ignore (not use) variables.\u001b[0m\u001b[0;34m\u001b[0m\u001b[0;34m\u001b[0m\u001b[0;34m\u001b[0m\u001b[0m\n\u001b[1;32m      9\u001b[0m     \u001b[0m_\u001b[0m\u001b[0;34m,\u001b[0m \u001b[0mfigs\u001b[0m \u001b[0;34m=\u001b[0m \u001b[0md2l\u001b[0m\u001b[0;34m.\u001b[0m\u001b[0mplt\u001b[0m\u001b[0;34m.\u001b[0m\u001b[0msubplots\u001b[0m\u001b[0;34m(\u001b[0m\u001b[0;36m1\u001b[0m\u001b[0;34m,\u001b[0m \u001b[0mlen\u001b[0m\u001b[0;34m(\u001b[0m\u001b[0mimages\u001b[0m\u001b[0;34m)\u001b[0m\u001b[0;34m,\u001b[0m \u001b[0mfigsize\u001b[0m\u001b[0;34m=\u001b[0m\u001b[0;34m(\u001b[0m\u001b[0;36m12\u001b[0m\u001b[0;34m,\u001b[0m \u001b[0;36m12\u001b[0m\u001b[0;34m)\u001b[0m\u001b[0;34m)\u001b[0m\u001b[0;34m\u001b[0m\u001b[0;34m\u001b[0m\u001b[0m\n",
      "\u001b[0;31mNameError\u001b[0m: name 'd2l' is not defined"
     ]
    }
   ],
   "source": [
    "X, y = mnist_train[0:9]\n",
    "show_fashion_mnist(X, get_fashion_mnist_labels(y))"
   ]
  },
  {
   "cell_type": "code",
   "execution_count": 18,
   "metadata": {
    "ExecuteTime": {
     "end_time": "2019-02-05T23:18:51.760718Z",
     "start_time": "2019-02-05T23:18:51.753182Z"
    },
    "attributes": {
     "classes": [],
     "id": "",
     "n": "28"
    },
    "slideshow": {
     "slide_type": "slide"
    }
   },
   "outputs": [],
   "source": [
    "batch_size = 256\n",
    "transformer = gdata.vision.transforms.ToTensor()\n",
    "if sys.platform.startswith('win'):\n",
    "    num_workers = 0  # 0 means no additional processes are needed to speed up the reading of data.\n",
    "else:\n",
    "    num_workers = 4\n",
    "\n",
    "train_iter = gdata.DataLoader(mnist_train.transform_first(transformer),\n",
    "                              batch_size, shuffle=True,\n",
    "                              num_workers=num_workers)\n",
    "test_iter = gdata.DataLoader(mnist_test.transform_first(transformer),\n",
    "                             batch_size, shuffle=False,\n",
    "                             num_workers=num_workers)"
   ]
  },
  {
   "cell_type": "markdown",
   "metadata": {
    "slideshow": {
     "slide_type": "slide"
    }
   },
   "source": [
    "Let's look at the time it takes to read the training data."
   ]
  },
  {
   "cell_type": "code",
   "execution_count": 19,
   "metadata": {
    "ExecuteTime": {
     "end_time": "2019-02-05T23:18:55.442842Z",
     "start_time": "2019-02-05T23:18:51.764487Z"
    }
   },
   "outputs": [
    {
     "name": "stdout",
     "output_type": "stream",
     "text": [
      "(256, 1, 28, 28)\n",
      "(256, 1, 28, 28)\n",
      "(256, 1, 28, 28)\n",
      "(256, 1, 28, 28)\n",
      "(256, 1, 28, 28)\n",
      "(256, 1, 28, 28)\n",
      "(256, 1, 28, 28)\n",
      "(256, 1, 28, 28)\n",
      "(256, 1, 28, 28)\n",
      "(256, 1, 28, 28)\n",
      "(256, 1, 28, 28)\n",
      "(256, 1, 28, 28)\n",
      "(256, 1, 28, 28)\n",
      "(256, 1, 28, 28)\n",
      "(256, 1, 28, 28)\n",
      "(256, 1, 28, 28)\n",
      "(256, 1, 28, 28)\n",
      "(256, 1, 28, 28)\n",
      "(256, 1, 28, 28)\n",
      "(256, 1, 28, 28)\n",
      "(256, 1, 28, 28)\n",
      "(256, 1, 28, 28)\n",
      "(256, 1, 28, 28)\n",
      "(256, 1, 28, 28)\n",
      "(256, 1, 28, 28)\n",
      "(256, 1, 28, 28)\n",
      "(256, 1, 28, 28)\n",
      "(256, 1, 28, 28)\n",
      "(256, 1, 28, 28)\n",
      "(256, 1, 28, 28)\n",
      "(256, 1, 28, 28)\n",
      "(256, 1, 28, 28)\n",
      "(256, 1, 28, 28)\n",
      "(256, 1, 28, 28)\n",
      "(256, 1, 28, 28)\n",
      "(256, 1, 28, 28)\n",
      "(256, 1, 28, 28)\n",
      "(256, 1, 28, 28)\n",
      "(256, 1, 28, 28)\n",
      "(256, 1, 28, 28)\n",
      "(256, 1, 28, 28)\n",
      "(256, 1, 28, 28)\n",
      "(256, 1, 28, 28)\n",
      "(256, 1, 28, 28)\n",
      "(256, 1, 28, 28)\n",
      "(256, 1, 28, 28)\n",
      "(256, 1, 28, 28)\n",
      "(256, 1, 28, 28)\n",
      "(256, 1, 28, 28)\n",
      "(256, 1, 28, 28)\n",
      "(256, 1, 28, 28)\n",
      "(256, 1, 28, 28)\n",
      "(256, 1, 28, 28)\n",
      "(256, 1, 28, 28)\n",
      "(256, 1, 28, 28)\n",
      "(256, 1, 28, 28)\n",
      "(256, 1, 28, 28)\n",
      "(256, 1, 28, 28)\n",
      "(256, 1, 28, 28)\n",
      "(256, 1, 28, 28)\n",
      "(256, 1, 28, 28)\n",
      "(256, 1, 28, 28)\n",
      "(256, 1, 28, 28)\n",
      "(256, 1, 28, 28)\n",
      "(256, 1, 28, 28)\n",
      "(256, 1, 28, 28)\n",
      "(256, 1, 28, 28)\n",
      "(256, 1, 28, 28)\n",
      "(256, 1, 28, 28)\n",
      "(256, 1, 28, 28)\n",
      "(256, 1, 28, 28)\n",
      "(256, 1, 28, 28)\n",
      "(256, 1, 28, 28)\n",
      "(256, 1, 28, 28)\n",
      "(256, 1, 28, 28)\n",
      "(256, 1, 28, 28)\n",
      "(256, 1, 28, 28)\n",
      "(256, 1, 28, 28)\n",
      "(256, 1, 28, 28)\n",
      "(256, 1, 28, 28)\n",
      "(256, 1, 28, 28)\n",
      "(256, 1, 28, 28)\n",
      "(256, 1, 28, 28)\n",
      "(256, 1, 28, 28)\n",
      "(256, 1, 28, 28)\n",
      "(256, 1, 28, 28)\n",
      "(256, 1, 28, 28)\n",
      "(256, 1, 28, 28)\n",
      "(256, 1, 28, 28)\n",
      "(256, 1, 28, 28)\n",
      "(256, 1, 28, 28)\n",
      "(256, 1, 28, 28)\n",
      "(256, 1, 28, 28)\n",
      "(256, 1, 28, 28)\n",
      "(256, 1, 28, 28)\n",
      "(256, 1, 28, 28)\n",
      "(256, 1, 28, 28)\n",
      "(256, 1, 28, 28)\n",
      "(256, 1, 28, 28)\n",
      "(256, 1, 28, 28)\n",
      "(256, 1, 28, 28)\n",
      "(256, 1, 28, 28)\n",
      "(256, 1, 28, 28)\n",
      "(256, 1, 28, 28)\n",
      "(256, 1, 28, 28)\n",
      "(256, 1, 28, 28)\n",
      "(256, 1, 28, 28)\n",
      "(256, 1, 28, 28)\n",
      "(256, 1, 28, 28)\n",
      "(256, 1, 28, 28)\n",
      "(256, 1, 28, 28)\n",
      "(256, 1, 28, 28)\n",
      "(256, 1, 28, 28)\n",
      "(256, 1, 28, 28)\n",
      "(256, 1, 28, 28)\n",
      "(256, 1, 28, 28)\n",
      "(256, 1, 28, 28)\n",
      "(256, 1, 28, 28)\n",
      "(256, 1, 28, 28)\n",
      "(256, 1, 28, 28)\n",
      "(256, 1, 28, 28)\n",
      "(256, 1, 28, 28)\n",
      "(256, 1, 28, 28)\n",
      "(256, 1, 28, 28)\n",
      "(256, 1, 28, 28)\n",
      "(256, 1, 28, 28)\n",
      "(256, 1, 28, 28)\n",
      "(256, 1, 28, 28)\n",
      "(256, 1, 28, 28)\n",
      "(256, 1, 28, 28)\n",
      "(256, 1, 28, 28)\n",
      "(256, 1, 28, 28)\n",
      "(256, 1, 28, 28)\n",
      "(256, 1, 28, 28)\n",
      "(256, 1, 28, 28)\n",
      "(256, 1, 28, 28)\n",
      "(256, 1, 28, 28)\n",
      "(256, 1, 28, 28)\n",
      "(256, 1, 28, 28)\n",
      "(256, 1, 28, 28)\n",
      "(256, 1, 28, 28)\n",
      "(256, 1, 28, 28)\n",
      "(256, 1, 28, 28)\n",
      "(256, 1, 28, 28)\n",
      "(256, 1, 28, 28)\n",
      "(256, 1, 28, 28)\n",
      "(256, 1, 28, 28)\n",
      "(256, 1, 28, 28)\n",
      "(256, 1, 28, 28)\n",
      "(256, 1, 28, 28)\n",
      "(256, 1, 28, 28)\n",
      "(256, 1, 28, 28)\n",
      "(256, 1, 28, 28)\n",
      "(256, 1, 28, 28)\n",
      "(256, 1, 28, 28)\n",
      "(256, 1, 28, 28)\n",
      "(256, 1, 28, 28)\n",
      "(256, 1, 28, 28)\n",
      "(256, 1, 28, 28)\n",
      "(256, 1, 28, 28)\n",
      "(256, 1, 28, 28)\n",
      "(256, 1, 28, 28)\n",
      "(256, 1, 28, 28)\n",
      "(256, 1, 28, 28)\n",
      "(256, 1, 28, 28)\n",
      "(256, 1, 28, 28)\n",
      "(256, 1, 28, 28)\n",
      "(256, 1, 28, 28)\n",
      "(256, 1, 28, 28)\n",
      "(256, 1, 28, 28)\n",
      "(256, 1, 28, 28)\n",
      "(256, 1, 28, 28)\n",
      "(256, 1, 28, 28)\n",
      "(256, 1, 28, 28)\n",
      "(256, 1, 28, 28)\n",
      "(256, 1, 28, 28)\n",
      "(256, 1, 28, 28)\n",
      "(256, 1, 28, 28)\n",
      "(256, 1, 28, 28)\n",
      "(256, 1, 28, 28)\n",
      "(256, 1, 28, 28)\n",
      "(256, 1, 28, 28)\n",
      "(256, 1, 28, 28)\n",
      "(256, 1, 28, 28)\n",
      "(256, 1, 28, 28)\n",
      "(256, 1, 28, 28)\n",
      "(256, 1, 28, 28)\n",
      "(256, 1, 28, 28)\n",
      "(256, 1, 28, 28)\n",
      "(256, 1, 28, 28)\n",
      "(256, 1, 28, 28)\n",
      "(256, 1, 28, 28)\n",
      "(256, 1, 28, 28)\n",
      "(256, 1, 28, 28)\n",
      "(256, 1, 28, 28)\n",
      "(256, 1, 28, 28)\n",
      "(256, 1, 28, 28)\n",
      "(256, 1, 28, 28)\n",
      "(256, 1, 28, 28)\n",
      "(256, 1, 28, 28)\n",
      "(256, 1, 28, 28)\n",
      "(256, 1, 28, 28)\n",
      "(256, 1, 28, 28)\n",
      "(256, 1, 28, 28)\n",
      "(256, 1, 28, 28)\n",
      "(256, 1, 28, 28)\n",
      "(256, 1, 28, 28)\n",
      "(256, 1, 28, 28)\n",
      "(256, 1, 28, 28)\n",
      "(256, 1, 28, 28)\n",
      "(256, 1, 28, 28)\n",
      "(256, 1, 28, 28)\n",
      "(256, 1, 28, 28)\n",
      "(256, 1, 28, 28)\n",
      "(256, 1, 28, 28)\n",
      "(256, 1, 28, 28)\n",
      "(256, 1, 28, 28)\n",
      "(256, 1, 28, 28)\n",
      "(256, 1, 28, 28)\n",
      "(256, 1, 28, 28)\n",
      "(256, 1, 28, 28)\n",
      "(256, 1, 28, 28)\n",
      "(256, 1, 28, 28)\n",
      "(256, 1, 28, 28)\n",
      "(256, 1, 28, 28)\n",
      "(256, 1, 28, 28)\n",
      "(256, 1, 28, 28)\n",
      "(256, 1, 28, 28)\n",
      "(256, 1, 28, 28)\n",
      "(256, 1, 28, 28)\n",
      "(256, 1, 28, 28)\n",
      "(256, 1, 28, 28)\n",
      "(256, 1, 28, 28)\n",
      "(256, 1, 28, 28)\n",
      "(96, 1, 28, 28)\n"
     ]
    },
    {
     "data": {
      "text/plain": [
       "'1.85 sec'"
      ]
     },
     "execution_count": 19,
     "metadata": {},
     "output_type": "execute_result"
    }
   ],
   "source": [
    "start = time.time()\n",
    "for X, y in train_iter:\n",
    "    print(X.shape)\n",
    "    continue\n",
    "'%.2f sec' % (time.time() - start)"
   ]
  },
  {
   "cell_type": "code",
   "execution_count": null,
   "metadata": {},
   "outputs": [],
   "source": []
  }
 ],
 "metadata": {
  "celltoolbar": "Slideshow",
  "kernelspec": {
   "display_name": "Python 3",
   "language": "python",
   "name": "python3"
  },
  "language_info": {
   "codemirror_mode": {
    "name": "ipython",
    "version": 3
   },
   "file_extension": ".py",
   "mimetype": "text/x-python",
   "name": "python",
   "nbconvert_exporter": "python",
   "pygments_lexer": "ipython3",
   "version": "3.6.8"
  }
 },
 "nbformat": 4,
 "nbformat_minor": 2
}
